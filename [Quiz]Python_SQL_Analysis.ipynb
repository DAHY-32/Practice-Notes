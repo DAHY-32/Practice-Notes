{
 "cells": [
  {
   "cell_type": "markdown",
   "metadata": {
    "id": "Jd1MJWFsMupp"
   },
   "source": [
    "# Python & SQL Analysis\n",
    "※ If you solve a query-based problem using Pandas, it will be scored as zero.\n",
    "- The same applies in reverse."
   ]
  },
  {
   "cell_type": "markdown",
   "metadata": {
    "id": "X2_kL54_1dWb"
   },
   "source": [
    "- In the Colab environment, markdown cells may not be displayed properly.\n",
    "- Please use a local environment such as VS Code or refer to the provided image file instead.\n",
    "\n",
    "- Scoring: Each question is worth 10 points, for a total of 80 points. Partial credit will not be given.\n",
    "\n",
    "- Code Variations: Different coding approaches are accepted as long as they meet all requirements and produce the correct output."
   ]
  },
  {
   "cell_type": "code",
   "execution_count": 27,
   "metadata": {
    "id": "INRMGwkRMupr"
   },
   "outputs": [],
   "source": [
    "# You may ignore these lines.\n",
    "import warnings\n",
    "warnings.filterwarnings('ignore')"
   ]
  },
  {
   "cell_type": "code",
   "execution_count": 28,
   "metadata": {
    "id": "VnD2roYoMupt",
    "outputId": "5a9a7c85-02d6-4058-f832-5410b3f629e2"
   },
   "outputs": [
    {
     "data": {
      "text/html": [
       "<div>\n",
       "<style scoped>\n",
       "    .dataframe tbody tr th:only-of-type {\n",
       "        vertical-align: middle;\n",
       "    }\n",
       "\n",
       "    .dataframe tbody tr th {\n",
       "        vertical-align: top;\n",
       "    }\n",
       "\n",
       "    .dataframe thead th {\n",
       "        text-align: right;\n",
       "    }\n",
       "</style>\n",
       "<table border=\"1\" class=\"dataframe\">\n",
       "  <thead>\n",
       "    <tr style=\"text-align: right;\">\n",
       "      <th></th>\n",
       "      <th>order_id</th>\n",
       "      <th>user_id</th>\n",
       "      <th>status</th>\n",
       "      <th>gender</th>\n",
       "      <th>created_at</th>\n",
       "    </tr>\n",
       "  </thead>\n",
       "  <tbody>\n",
       "    <tr>\n",
       "      <th>0</th>\n",
       "      <td>69</td>\n",
       "      <td>65</td>\n",
       "      <td>Complete</td>\n",
       "      <td>F</td>\n",
       "      <td>2023-07-14 14:24:00+00:00</td>\n",
       "    </tr>\n",
       "    <tr>\n",
       "      <th>1</th>\n",
       "      <td>78</td>\n",
       "      <td>70</td>\n",
       "      <td>Complete</td>\n",
       "      <td>F</td>\n",
       "      <td>2023-11-26 16:57:00+00:00</td>\n",
       "    </tr>\n",
       "    <tr>\n",
       "      <th>2</th>\n",
       "      <td>199</td>\n",
       "      <td>175</td>\n",
       "      <td>Complete</td>\n",
       "      <td>F</td>\n",
       "      <td>2023-05-16 13:10:00+00:00</td>\n",
       "    </tr>\n",
       "    <tr>\n",
       "      <th>3</th>\n",
       "      <td>226</td>\n",
       "      <td>198</td>\n",
       "      <td>Complete</td>\n",
       "      <td>F</td>\n",
       "      <td>2023-09-25 01:18:00+00:00</td>\n",
       "    </tr>\n",
       "    <tr>\n",
       "      <th>4</th>\n",
       "      <td>227</td>\n",
       "      <td>198</td>\n",
       "      <td>Complete</td>\n",
       "      <td>F</td>\n",
       "      <td>2023-03-29 01:18:00+00:00</td>\n",
       "    </tr>\n",
       "  </tbody>\n",
       "</table>\n",
       "</div>"
      ],
      "text/plain": [
       "   order_id  user_id    status gender                 created_at\n",
       "0        69       65  Complete      F  2023-07-14 14:24:00+00:00\n",
       "1        78       70  Complete      F  2023-11-26 16:57:00+00:00\n",
       "2       199      175  Complete      F  2023-05-16 13:10:00+00:00\n",
       "3       226      198  Complete      F  2023-09-25 01:18:00+00:00\n",
       "4       227      198  Complete      F  2023-03-29 01:18:00+00:00"
      ]
     },
     "metadata": {},
     "output_type": "display_data"
    },
    {
     "data": {
      "text/html": [
       "<div>\n",
       "<style scoped>\n",
       "    .dataframe tbody tr th:only-of-type {\n",
       "        vertical-align: middle;\n",
       "    }\n",
       "\n",
       "    .dataframe tbody tr th {\n",
       "        vertical-align: top;\n",
       "    }\n",
       "\n",
       "    .dataframe thead th {\n",
       "        text-align: right;\n",
       "    }\n",
       "</style>\n",
       "<table border=\"1\" class=\"dataframe\">\n",
       "  <thead>\n",
       "    <tr style=\"text-align: right;\">\n",
       "      <th></th>\n",
       "      <th>id</th>\n",
       "      <th>country</th>\n",
       "      <th>latitude</th>\n",
       "      <th>longitude</th>\n",
       "      <th>state</th>\n",
       "    </tr>\n",
       "  </thead>\n",
       "  <tbody>\n",
       "    <tr>\n",
       "      <th>0</th>\n",
       "      <td>67829</td>\n",
       "      <td>Brasil</td>\n",
       "      <td>-8.065346</td>\n",
       "      <td>-72.870949</td>\n",
       "      <td>Acre</td>\n",
       "    </tr>\n",
       "    <tr>\n",
       "      <th>1</th>\n",
       "      <td>36042</td>\n",
       "      <td>Brasil</td>\n",
       "      <td>-8.065346</td>\n",
       "      <td>-72.870949</td>\n",
       "      <td>Acre</td>\n",
       "    </tr>\n",
       "    <tr>\n",
       "      <th>2</th>\n",
       "      <td>96280</td>\n",
       "      <td>Brasil</td>\n",
       "      <td>-8.065346</td>\n",
       "      <td>-72.870949</td>\n",
       "      <td>Acre</td>\n",
       "    </tr>\n",
       "    <tr>\n",
       "      <th>3</th>\n",
       "      <td>43114</td>\n",
       "      <td>Brasil</td>\n",
       "      <td>-8.065346</td>\n",
       "      <td>-72.870949</td>\n",
       "      <td>Acre</td>\n",
       "    </tr>\n",
       "    <tr>\n",
       "      <th>4</th>\n",
       "      <td>29263</td>\n",
       "      <td>Brasil</td>\n",
       "      <td>-8.065346</td>\n",
       "      <td>-72.870949</td>\n",
       "      <td>Acre</td>\n",
       "    </tr>\n",
       "  </tbody>\n",
       "</table>\n",
       "</div>"
      ],
      "text/plain": [
       "      id country  latitude  longitude state\n",
       "0  67829  Brasil -8.065346 -72.870949  Acre\n",
       "1  36042  Brasil -8.065346 -72.870949  Acre\n",
       "2  96280  Brasil -8.065346 -72.870949  Acre\n",
       "3  43114  Brasil -8.065346 -72.870949  Acre\n",
       "4  29263  Brasil -8.065346 -72.870949  Acre"
      ]
     },
     "metadata": {},
     "output_type": "display_data"
    }
   ],
   "source": [
    "import pandas as pd\n",
    "display(pd.read_csv('./data/thelook_ecommerce_order.csv').head())\n",
    "display(pd.read_csv('./data/thelook_ecommerce_user.csv').head())"
   ]
  },
  {
   "cell_type": "markdown",
   "metadata": {
    "id": "uBcmyudk1m4u"
   },
   "source": [
    "---\n",
    "# Q0. Write your name"
   ]
  },
  {
   "cell_type": "code",
   "execution_count": 29,
   "metadata": {
    "id": "qr4rFuvT1vN1"
   },
   "outputs": [],
   "source": [
    "# Firstname, Lastname\n",
    "# Name: Hayoung Choi"
   ]
  },
  {
   "cell_type": "markdown",
   "metadata": {
    "id": "XqMA35i_px96"
   },
   "source": [
    "---\n",
    "# Q1. Data Preprocessing – Getting Location Information"
   ]
  },
  {
   "cell_type": "code",
   "execution_count": 30,
   "metadata": {
    "id": "929ui9u9px97"
   },
   "outputs": [],
   "source": [
    "# [Dataset]\n",
    "# - 'users' Table from thelook_ecommerce_user.csv\n",
    "# [Columns used]\n",
    "# - Columns: latitude, longitude, state\n",
    "\n",
    "# [First DataFrame]\n",
    "# - Create a DataFrame by selecting the ['state', 'latitude', 'longitude'] columns from the original dataset.\n",
    "# - Also display the dataframe shape information (as shown in the cell output).\n",
    "# - Purpose: To retain only the location-related information from the original data.\n",
    "\n",
    "\n",
    "# [Second DataFrame]\n",
    "# - Remove duplicate entries from the first DataFrame based on ['latitude', 'longitude'].\n",
    "# - Also display the dataframe shape information (as shown in the cell output).\n",
    "# - Purpose: To check how many unique location entries exist per State.\n",
    "\n"
   ]
  },
  {
   "cell_type": "code",
   "execution_count": 131,
   "metadata": {},
   "outputs": [
    {
     "name": "stdout",
     "output_type": "stream",
     "text": [
      "(5000, 5)\n"
     ]
    },
    {
     "data": {
      "text/html": [
       "<div>\n",
       "<style scoped>\n",
       "    .dataframe tbody tr th:only-of-type {\n",
       "        vertical-align: middle;\n",
       "    }\n",
       "\n",
       "    .dataframe tbody tr th {\n",
       "        vertical-align: top;\n",
       "    }\n",
       "\n",
       "    .dataframe thead th {\n",
       "        text-align: right;\n",
       "    }\n",
       "</style>\n",
       "<table border=\"1\" class=\"dataframe\">\n",
       "  <thead>\n",
       "    <tr style=\"text-align: right;\">\n",
       "      <th></th>\n",
       "      <th>id</th>\n",
       "      <th>country</th>\n",
       "      <th>latitude</th>\n",
       "      <th>longitude</th>\n",
       "      <th>state</th>\n",
       "    </tr>\n",
       "  </thead>\n",
       "  <tbody>\n",
       "    <tr>\n",
       "      <th>0</th>\n",
       "      <td>67829</td>\n",
       "      <td>Brasil</td>\n",
       "      <td>-8.065346</td>\n",
       "      <td>-72.870949</td>\n",
       "      <td>Acre</td>\n",
       "    </tr>\n",
       "    <tr>\n",
       "      <th>1</th>\n",
       "      <td>36042</td>\n",
       "      <td>Brasil</td>\n",
       "      <td>-8.065346</td>\n",
       "      <td>-72.870949</td>\n",
       "      <td>Acre</td>\n",
       "    </tr>\n",
       "    <tr>\n",
       "      <th>2</th>\n",
       "      <td>96280</td>\n",
       "      <td>Brasil</td>\n",
       "      <td>-8.065346</td>\n",
       "      <td>-72.870949</td>\n",
       "      <td>Acre</td>\n",
       "    </tr>\n",
       "    <tr>\n",
       "      <th>3</th>\n",
       "      <td>43114</td>\n",
       "      <td>Brasil</td>\n",
       "      <td>-8.065346</td>\n",
       "      <td>-72.870949</td>\n",
       "      <td>Acre</td>\n",
       "    </tr>\n",
       "    <tr>\n",
       "      <th>4</th>\n",
       "      <td>29263</td>\n",
       "      <td>Brasil</td>\n",
       "      <td>-8.065346</td>\n",
       "      <td>-72.870949</td>\n",
       "      <td>Acre</td>\n",
       "    </tr>\n",
       "  </tbody>\n",
       "</table>\n",
       "</div>"
      ],
      "text/plain": [
       "      id country  latitude  longitude state\n",
       "0  67829  Brasil -8.065346 -72.870949  Acre\n",
       "1  36042  Brasil -8.065346 -72.870949  Acre\n",
       "2  96280  Brasil -8.065346 -72.870949  Acre\n",
       "3  43114  Brasil -8.065346 -72.870949  Acre\n",
       "4  29263  Brasil -8.065346 -72.870949  Acre"
      ]
     },
     "execution_count": 131,
     "metadata": {},
     "output_type": "execute_result"
    }
   ],
   "source": [
    "# [Dataset]\n",
    "df_order = pd.read_csv('./data/thelook_ecommerce_order.csv')\n",
    "df_user = pd.read_csv('./data/thelook_ecommerce_user.csv')\n",
    "print(df_user.shape)\n",
    "df_user.head()\n",
    "\n"
   ]
  },
  {
   "cell_type": "code",
   "execution_count": 132,
   "metadata": {},
   "outputs": [
    {
     "name": "stdout",
     "output_type": "stream",
     "text": [
      "(5000, 3)\n"
     ]
    },
    {
     "data": {
      "text/html": [
       "<div>\n",
       "<style scoped>\n",
       "    .dataframe tbody tr th:only-of-type {\n",
       "        vertical-align: middle;\n",
       "    }\n",
       "\n",
       "    .dataframe tbody tr th {\n",
       "        vertical-align: top;\n",
       "    }\n",
       "\n",
       "    .dataframe thead th {\n",
       "        text-align: right;\n",
       "    }\n",
       "</style>\n",
       "<table border=\"1\" class=\"dataframe\">\n",
       "  <thead>\n",
       "    <tr style=\"text-align: right;\">\n",
       "      <th></th>\n",
       "      <th>latitude</th>\n",
       "      <th>longitude</th>\n",
       "      <th>state</th>\n",
       "    </tr>\n",
       "  </thead>\n",
       "  <tbody>\n",
       "    <tr>\n",
       "      <th>0</th>\n",
       "      <td>-8.065346</td>\n",
       "      <td>-72.870949</td>\n",
       "      <td>Acre</td>\n",
       "    </tr>\n",
       "    <tr>\n",
       "      <th>1</th>\n",
       "      <td>-8.065346</td>\n",
       "      <td>-72.870949</td>\n",
       "      <td>Acre</td>\n",
       "    </tr>\n",
       "    <tr>\n",
       "      <th>2</th>\n",
       "      <td>-8.065346</td>\n",
       "      <td>-72.870949</td>\n",
       "      <td>Acre</td>\n",
       "    </tr>\n",
       "    <tr>\n",
       "      <th>3</th>\n",
       "      <td>-8.065346</td>\n",
       "      <td>-72.870949</td>\n",
       "      <td>Acre</td>\n",
       "    </tr>\n",
       "    <tr>\n",
       "      <th>4</th>\n",
       "      <td>-8.065346</td>\n",
       "      <td>-72.870949</td>\n",
       "      <td>Acre</td>\n",
       "    </tr>\n",
       "  </tbody>\n",
       "</table>\n",
       "</div>"
      ],
      "text/plain": [
       "   latitude  longitude state\n",
       "0 -8.065346 -72.870949  Acre\n",
       "1 -8.065346 -72.870949  Acre\n",
       "2 -8.065346 -72.870949  Acre\n",
       "3 -8.065346 -72.870949  Acre\n",
       "4 -8.065346 -72.870949  Acre"
      ]
     },
     "execution_count": 132,
     "metadata": {},
     "output_type": "execute_result"
    }
   ],
   "source": [
    "# [First DataFrame]\n",
    "users = df_user[['latitude', 'longitude', 'state']]\n",
    "print(users.shape)\n",
    "users.head()"
   ]
  },
  {
   "cell_type": "code",
   "execution_count": 133,
   "metadata": {},
   "outputs": [
    {
     "name": "stdout",
     "output_type": "stream",
     "text": [
      "(1016, 3)\n"
     ]
    },
    {
     "data": {
      "text/html": [
       "<div>\n",
       "<style scoped>\n",
       "    .dataframe tbody tr th:only-of-type {\n",
       "        vertical-align: middle;\n",
       "    }\n",
       "\n",
       "    .dataframe tbody tr th {\n",
       "        vertical-align: top;\n",
       "    }\n",
       "\n",
       "    .dataframe thead th {\n",
       "        text-align: right;\n",
       "    }\n",
       "</style>\n",
       "<table border=\"1\" class=\"dataframe\">\n",
       "  <thead>\n",
       "    <tr style=\"text-align: right;\">\n",
       "      <th></th>\n",
       "      <th>latitude</th>\n",
       "      <th>longitude</th>\n",
       "      <th>state</th>\n",
       "    </tr>\n",
       "  </thead>\n",
       "  <tbody>\n",
       "    <tr>\n",
       "      <th>0</th>\n",
       "      <td>-8.065346</td>\n",
       "      <td>-72.870949</td>\n",
       "      <td>Acre</td>\n",
       "    </tr>\n",
       "    <tr>\n",
       "      <th>15</th>\n",
       "      <td>-8.325245</td>\n",
       "      <td>-71.553030</td>\n",
       "      <td>Acre</td>\n",
       "    </tr>\n",
       "    <tr>\n",
       "      <th>23</th>\n",
       "      <td>-9.857324</td>\n",
       "      <td>-69.437057</td>\n",
       "      <td>Acre</td>\n",
       "    </tr>\n",
       "    <tr>\n",
       "      <th>33</th>\n",
       "      <td>-9.945568</td>\n",
       "      <td>-67.835610</td>\n",
       "      <td>Acre</td>\n",
       "    </tr>\n",
       "    <tr>\n",
       "      <th>42</th>\n",
       "      <td>35.317684</td>\n",
       "      <td>136.767047</td>\n",
       "      <td>Aichi</td>\n",
       "    </tr>\n",
       "  </tbody>\n",
       "</table>\n",
       "</div>"
      ],
      "text/plain": [
       "     latitude   longitude  state\n",
       "0   -8.065346  -72.870949   Acre\n",
       "15  -8.325245  -71.553030   Acre\n",
       "23  -9.857324  -69.437057   Acre\n",
       "33  -9.945568  -67.835610   Acre\n",
       "42  35.317684  136.767047  Aichi"
      ]
     },
     "execution_count": 133,
     "metadata": {},
     "output_type": "execute_result"
    }
   ],
   "source": [
    "# [Second DataFrame]\n",
    "users = users.drop_duplicates(['latitude', 'longitude'])\n",
    "print(users.shape)\n",
    "users.head()"
   ]
  },
  {
   "cell_type": "code",
   "execution_count": null,
   "metadata": {
    "id": "TsrtfO8u1dWf",
    "outputId": "14f3fc94-72b8-4fda-c83d-099fa5be1502"
   },
   "outputs": [
    {
     "data": {
      "text/plain": [
       "\"\\n[Hint]\\n1. When you want certain columns from Dataframe, you may use df[['A', 'B', 'C']]\\n2. Use drop_duplicates method to remove duplicates\\n\""
      ]
     },
     "execution_count": 26,
     "metadata": {},
     "output_type": "execute_result"
    }
   ],
   "source": [
    "'''\n",
    "[Hint]\n",
    "1. When you want certain columns from Dataframe, you may use df[['A', 'B', 'C']]\n",
    "2. Use drop_duplicates method to remove duplicates\n",
    "'''"
   ]
  },
  {
   "cell_type": "markdown",
   "metadata": {
    "id": "MrUW56mA1dWf"
   },
   "source": [
    "<img src=\"./images/Q1.png\" width=\"40%\">"
   ]
  },
  {
   "cell_type": "markdown",
   "metadata": {
    "id": "k_1hTobMpx98"
   },
   "source": [
    "---\n",
    "# Q2. Data Preprocessing – Checking the Number of Users per Location"
   ]
  },
  {
   "cell_type": "code",
   "execution_count": 138,
   "metadata": {
    "id": "6qbWkSBJpx98"
   },
   "outputs": [
    {
     "name": "stdout",
     "output_type": "stream",
     "text": [
      "(5000, 5)\n"
     ]
    },
    {
     "data": {
      "text/html": [
       "<div>\n",
       "<style scoped>\n",
       "    .dataframe tbody tr th:only-of-type {\n",
       "        vertical-align: middle;\n",
       "    }\n",
       "\n",
       "    .dataframe tbody tr th {\n",
       "        vertical-align: top;\n",
       "    }\n",
       "\n",
       "    .dataframe thead th {\n",
       "        text-align: right;\n",
       "    }\n",
       "</style>\n",
       "<table border=\"1\" class=\"dataframe\">\n",
       "  <thead>\n",
       "    <tr style=\"text-align: right;\">\n",
       "      <th></th>\n",
       "      <th>id</th>\n",
       "      <th>country</th>\n",
       "      <th>latitude</th>\n",
       "      <th>longitude</th>\n",
       "      <th>state</th>\n",
       "    </tr>\n",
       "  </thead>\n",
       "  <tbody>\n",
       "    <tr>\n",
       "      <th>0</th>\n",
       "      <td>67829</td>\n",
       "      <td>Brasil</td>\n",
       "      <td>-8.065346</td>\n",
       "      <td>-72.870949</td>\n",
       "      <td>Acre</td>\n",
       "    </tr>\n",
       "    <tr>\n",
       "      <th>1</th>\n",
       "      <td>36042</td>\n",
       "      <td>Brasil</td>\n",
       "      <td>-8.065346</td>\n",
       "      <td>-72.870949</td>\n",
       "      <td>Acre</td>\n",
       "    </tr>\n",
       "    <tr>\n",
       "      <th>2</th>\n",
       "      <td>96280</td>\n",
       "      <td>Brasil</td>\n",
       "      <td>-8.065346</td>\n",
       "      <td>-72.870949</td>\n",
       "      <td>Acre</td>\n",
       "    </tr>\n",
       "    <tr>\n",
       "      <th>3</th>\n",
       "      <td>43114</td>\n",
       "      <td>Brasil</td>\n",
       "      <td>-8.065346</td>\n",
       "      <td>-72.870949</td>\n",
       "      <td>Acre</td>\n",
       "    </tr>\n",
       "    <tr>\n",
       "      <th>4</th>\n",
       "      <td>29263</td>\n",
       "      <td>Brasil</td>\n",
       "      <td>-8.065346</td>\n",
       "      <td>-72.870949</td>\n",
       "      <td>Acre</td>\n",
       "    </tr>\n",
       "  </tbody>\n",
       "</table>\n",
       "</div>"
      ],
      "text/plain": [
       "      id country  latitude  longitude state\n",
       "0  67829  Brasil -8.065346 -72.870949  Acre\n",
       "1  36042  Brasil -8.065346 -72.870949  Acre\n",
       "2  96280  Brasil -8.065346 -72.870949  Acre\n",
       "3  43114  Brasil -8.065346 -72.870949  Acre\n",
       "4  29263  Brasil -8.065346 -72.870949  Acre"
      ]
     },
     "execution_count": 138,
     "metadata": {},
     "output_type": "execute_result"
    }
   ],
   "source": [
    "# [Dataset]\n",
    "# thelook_ecommerce_user.csv'\n",
    "# => thelook_ecommerce의 'users' Table\n",
    "\n",
    "# [Result]\n",
    "# - Group the data by 'latitude' and 'longitude' to calculate the number of users per location.\n",
    "# - Purpose: To understand how many users are present at each unique location.\n",
    "# - Since the goal is to count users, determine which aggregation function (e.g., sum, count, or nunique) is most appropriate.\n",
    "# - Sort the resulting data in descending order based on the number of users.\n",
    "# - Also, make sure to rename the columns accordingly in the final output.\n",
    "df_user = pd.read_csv('./data/thelook_ecommerce_user.csv')\n",
    "df_user = pd.DataFrame(df_user)\n",
    "print(df_user.shape)\n",
    "df_user.head()\n"
   ]
  },
  {
   "cell_type": "code",
   "execution_count": 141,
   "metadata": {},
   "outputs": [
    {
     "name": "stdout",
     "output_type": "stream",
     "text": [
      "(1016, 3)\n"
     ]
    },
    {
     "data": {
      "text/html": [
       "<div>\n",
       "<style scoped>\n",
       "    .dataframe tbody tr th:only-of-type {\n",
       "        vertical-align: middle;\n",
       "    }\n",
       "\n",
       "    .dataframe tbody tr th {\n",
       "        vertical-align: top;\n",
       "    }\n",
       "\n",
       "    .dataframe thead th {\n",
       "        text-align: right;\n",
       "    }\n",
       "</style>\n",
       "<table border=\"1\" class=\"dataframe\">\n",
       "  <thead>\n",
       "    <tr style=\"text-align: right;\">\n",
       "      <th></th>\n",
       "      <th>latitude</th>\n",
       "      <th>longitude</th>\n",
       "      <th>user_name</th>\n",
       "    </tr>\n",
       "  </thead>\n",
       "  <tbody>\n",
       "    <tr>\n",
       "      <th>142</th>\n",
       "      <td>31.914062</td>\n",
       "      <td>117.267601</td>\n",
       "      <td>59</td>\n",
       "    </tr>\n",
       "    <tr>\n",
       "      <th>140</th>\n",
       "      <td>31.891306</td>\n",
       "      <td>117.320511</td>\n",
       "      <td>50</td>\n",
       "    </tr>\n",
       "    <tr>\n",
       "      <th>132</th>\n",
       "      <td>31.830186</td>\n",
       "      <td>117.267413</td>\n",
       "      <td>47</td>\n",
       "    </tr>\n",
       "    <tr>\n",
       "      <th>138</th>\n",
       "      <td>31.877447</td>\n",
       "      <td>117.223794</td>\n",
       "      <td>39</td>\n",
       "    </tr>\n",
       "    <tr>\n",
       "      <th>304</th>\n",
       "      <td>33.900259</td>\n",
       "      <td>116.769997</td>\n",
       "      <td>38</td>\n",
       "    </tr>\n",
       "  </tbody>\n",
       "</table>\n",
       "</div>"
      ],
      "text/plain": [
       "      latitude   longitude  user_name\n",
       "142  31.914062  117.267601         59\n",
       "140  31.891306  117.320511         50\n",
       "132  31.830186  117.267413         47\n",
       "138  31.877447  117.223794         39\n",
       "304  33.900259  116.769997         38"
      ]
     },
     "execution_count": 141,
     "metadata": {},
     "output_type": "execute_result"
    }
   ],
   "source": [
    "df_user = df_user.rename(columns={'id':'user_name'})\n",
    "\n",
    "grouped_user = df_user.groupby(['latitude','longitude'])['user_name'].nunique().reset_index()\n",
    "grouped_user = grouped_user.sort_values(by = 'user_name',ascending=False)   \n",
    "print(grouped_user.shape)\n",
    "grouped_user.head()"
   ]
  },
  {
   "cell_type": "code",
   "execution_count": 118,
   "metadata": {
    "id": "Oh78IdL_1dWg",
    "outputId": "bcc9fec2-19d8-4d16-f38f-ec66f7cf8108"
   },
   "outputs": [
    {
     "data": {
      "text/plain": [
       "\"\\n[Hint]\\n1. Use 'groupby' for data aggregation, and nunique() to count the number of unique users.\\n2. Use 'sort_values' to sort the aggregated data.\\n3. Use 'rename' to change column names in a DataFrame.\\n\""
      ]
     },
     "execution_count": 118,
     "metadata": {},
     "output_type": "execute_result"
    }
   ],
   "source": [
    "'''\n",
    "[Hint]\n",
    "1. Use 'groupby' for data aggregation, and nunique() to count the number of unique users.\n",
    "2. Use 'sort_values' to sort the aggregated data.\n",
    "3. Use 'rename' to change column names in a DataFrame.\n",
    "'''"
   ]
  },
  {
   "cell_type": "markdown",
   "metadata": {
    "id": "reqCa1ud1dWg"
   },
   "source": [
    "<img src=\"./images/Q2.png\" width=\"60%\">"
   ]
  },
  {
   "cell_type": "markdown",
   "metadata": {
    "id": "ViZSHY_Rpx99"
   },
   "source": [
    "---\n",
    "# Q3. Data Preprocessing – Data Merging"
   ]
  },
  {
   "cell_type": "code",
   "execution_count": 144,
   "metadata": {
    "id": "Qdkv9Rwrpx99",
    "outputId": "56b55b56-e7c9-41ba-ac3c-d47c3e2c2b20"
   },
   "outputs": [
    {
     "data": {
      "text/html": [
       "<div>\n",
       "<style scoped>\n",
       "    .dataframe tbody tr th:only-of-type {\n",
       "        vertical-align: middle;\n",
       "    }\n",
       "\n",
       "    .dataframe tbody tr th {\n",
       "        vertical-align: top;\n",
       "    }\n",
       "\n",
       "    .dataframe thead th {\n",
       "        text-align: right;\n",
       "    }\n",
       "</style>\n",
       "<table border=\"1\" class=\"dataframe\">\n",
       "  <thead>\n",
       "    <tr style=\"text-align: right;\">\n",
       "      <th></th>\n",
       "      <th>state</th>\n",
       "      <th>latitude</th>\n",
       "      <th>longitude</th>\n",
       "    </tr>\n",
       "  </thead>\n",
       "  <tbody>\n",
       "    <tr>\n",
       "      <th>0</th>\n",
       "      <td>Acre</td>\n",
       "      <td>-8.065346</td>\n",
       "      <td>-72.870949</td>\n",
       "    </tr>\n",
       "    <tr>\n",
       "      <th>1</th>\n",
       "      <td>Acre</td>\n",
       "      <td>-8.325245</td>\n",
       "      <td>-71.553030</td>\n",
       "    </tr>\n",
       "    <tr>\n",
       "      <th>2</th>\n",
       "      <td>Acre</td>\n",
       "      <td>-9.857324</td>\n",
       "      <td>-69.437057</td>\n",
       "    </tr>\n",
       "    <tr>\n",
       "      <th>3</th>\n",
       "      <td>Acre</td>\n",
       "      <td>-9.945568</td>\n",
       "      <td>-67.835610</td>\n",
       "    </tr>\n",
       "    <tr>\n",
       "      <th>4</th>\n",
       "      <td>Aichi</td>\n",
       "      <td>35.317684</td>\n",
       "      <td>136.767047</td>\n",
       "    </tr>\n",
       "  </tbody>\n",
       "</table>\n",
       "</div>"
      ],
      "text/plain": [
       "   state   latitude   longitude\n",
       "0   Acre  -8.065346  -72.870949\n",
       "1   Acre  -8.325245  -71.553030\n",
       "2   Acre  -9.857324  -69.437057\n",
       "3   Acre  -9.945568  -67.835610\n",
       "4  Aichi  35.317684  136.767047"
      ]
     },
     "metadata": {},
     "output_type": "display_data"
    },
    {
     "data": {
      "text/html": [
       "<div>\n",
       "<style scoped>\n",
       "    .dataframe tbody tr th:only-of-type {\n",
       "        vertical-align: middle;\n",
       "    }\n",
       "\n",
       "    .dataframe tbody tr th {\n",
       "        vertical-align: top;\n",
       "    }\n",
       "\n",
       "    .dataframe thead th {\n",
       "        text-align: right;\n",
       "    }\n",
       "</style>\n",
       "<table border=\"1\" class=\"dataframe\">\n",
       "  <thead>\n",
       "    <tr style=\"text-align: right;\">\n",
       "      <th></th>\n",
       "      <th>latitude</th>\n",
       "      <th>longitude</th>\n",
       "      <th>user_number</th>\n",
       "    </tr>\n",
       "  </thead>\n",
       "  <tbody>\n",
       "    <tr>\n",
       "      <th>0</th>\n",
       "      <td>31.914062</td>\n",
       "      <td>117.267601</td>\n",
       "      <td>59</td>\n",
       "    </tr>\n",
       "    <tr>\n",
       "      <th>1</th>\n",
       "      <td>31.891306</td>\n",
       "      <td>117.320511</td>\n",
       "      <td>50</td>\n",
       "    </tr>\n",
       "    <tr>\n",
       "      <th>2</th>\n",
       "      <td>31.830186</td>\n",
       "      <td>117.267413</td>\n",
       "      <td>47</td>\n",
       "    </tr>\n",
       "    <tr>\n",
       "      <th>3</th>\n",
       "      <td>31.877447</td>\n",
       "      <td>117.223794</td>\n",
       "      <td>39</td>\n",
       "    </tr>\n",
       "    <tr>\n",
       "      <th>4</th>\n",
       "      <td>33.900259</td>\n",
       "      <td>116.769997</td>\n",
       "      <td>38</td>\n",
       "    </tr>\n",
       "  </tbody>\n",
       "</table>\n",
       "</div>"
      ],
      "text/plain": [
       "    latitude   longitude  user_number\n",
       "0  31.914062  117.267601           59\n",
       "1  31.891306  117.320511           50\n",
       "2  31.830186  117.267413           47\n",
       "3  31.877447  117.223794           39\n",
       "4  33.900259  116.769997           38"
      ]
     },
     "metadata": {},
     "output_type": "display_data"
    }
   ],
   "source": [
    "# If you were unable to solve the problems in Q1 or Q2, please try to solve them using the provided files.\n",
    "# [Provided files] Q1_result.csv, Q2_result.csv\n",
    "import pandas as pd\n",
    "display(pd.read_csv('./data_result/Q1_result.csv').head())\n",
    "display(pd.read_csv('./data_result/Q2_result.csv').head())\n",
    "df1 = pd.DataFrame(pd.read_csv('./data_result/Q1_result.csv'))\n",
    "df2 = pd.DataFrame(pd.read_csv('./data_result/Q2_result.csv'))"
   ]
  },
  {
   "cell_type": "code",
   "execution_count": 151,
   "metadata": {
    "id": "iyaVEDUEpx99"
   },
   "outputs": [],
   "source": [
    "# [Data Used]\n",
    "# (1) Q1 preprocessed data\n",
    "# (2) Q2 preprocessed data\n",
    "\n",
    "# [Purpose]\n",
    "# Merge the two datasets into a single DataFrame using latitude and longitude as the key columns.\n",
    "# You may refer to the course materials or online sources for merging.\n",
    "\n",
    "\n",
    "# [Important Note]\n",
    "# The number of rows in the merged DataFrame must not increase compared to the original Q1 and Q2 datasets.\n"
   ]
  },
  {
   "cell_type": "code",
   "execution_count": 150,
   "metadata": {},
   "outputs": [
    {
     "data": {
      "text/html": [
       "<div>\n",
       "<style scoped>\n",
       "    .dataframe tbody tr th:only-of-type {\n",
       "        vertical-align: middle;\n",
       "    }\n",
       "\n",
       "    .dataframe tbody tr th {\n",
       "        vertical-align: top;\n",
       "    }\n",
       "\n",
       "    .dataframe thead th {\n",
       "        text-align: right;\n",
       "    }\n",
       "</style>\n",
       "<table border=\"1\" class=\"dataframe\">\n",
       "  <thead>\n",
       "    <tr style=\"text-align: right;\">\n",
       "      <th></th>\n",
       "      <th>state</th>\n",
       "      <th>latitude</th>\n",
       "      <th>longitude</th>\n",
       "      <th>user_number</th>\n",
       "    </tr>\n",
       "  </thead>\n",
       "  <tbody>\n",
       "    <tr>\n",
       "      <th>0</th>\n",
       "      <td>Acre</td>\n",
       "      <td>-8.065346</td>\n",
       "      <td>-72.870949</td>\n",
       "      <td>15</td>\n",
       "    </tr>\n",
       "    <tr>\n",
       "      <th>1</th>\n",
       "      <td>Acre</td>\n",
       "      <td>-8.325245</td>\n",
       "      <td>-71.553030</td>\n",
       "      <td>8</td>\n",
       "    </tr>\n",
       "    <tr>\n",
       "      <th>2</th>\n",
       "      <td>Acre</td>\n",
       "      <td>-9.857324</td>\n",
       "      <td>-69.437057</td>\n",
       "      <td>10</td>\n",
       "    </tr>\n",
       "    <tr>\n",
       "      <th>3</th>\n",
       "      <td>Acre</td>\n",
       "      <td>-9.945568</td>\n",
       "      <td>-67.835610</td>\n",
       "      <td>9</td>\n",
       "    </tr>\n",
       "    <tr>\n",
       "      <th>4</th>\n",
       "      <td>Aichi</td>\n",
       "      <td>35.317684</td>\n",
       "      <td>136.767047</td>\n",
       "      <td>1</td>\n",
       "    </tr>\n",
       "    <tr>\n",
       "      <th>...</th>\n",
       "      <td>...</td>\n",
       "      <td>...</td>\n",
       "      <td>...</td>\n",
       "      <td>...</td>\n",
       "    </tr>\n",
       "    <tr>\n",
       "      <th>1011</th>\n",
       "      <td>Bahia</td>\n",
       "      <td>-13.179466</td>\n",
       "      <td>-42.710694</td>\n",
       "      <td>9</td>\n",
       "    </tr>\n",
       "    <tr>\n",
       "      <th>1012</th>\n",
       "      <td>Bahia</td>\n",
       "      <td>-13.976677</td>\n",
       "      <td>-42.497357</td>\n",
       "      <td>8</td>\n",
       "    </tr>\n",
       "    <tr>\n",
       "      <th>1013</th>\n",
       "      <td>Bahia</td>\n",
       "      <td>-9.600617</td>\n",
       "      <td>-42.255133</td>\n",
       "      <td>9</td>\n",
       "    </tr>\n",
       "    <tr>\n",
       "      <th>1014</th>\n",
       "      <td>Bahia</td>\n",
       "      <td>-13.808923</td>\n",
       "      <td>-42.009178</td>\n",
       "      <td>10</td>\n",
       "    </tr>\n",
       "    <tr>\n",
       "      <th>1015</th>\n",
       "      <td>Bahia</td>\n",
       "      <td>-12.426667</td>\n",
       "      <td>-41.879989</td>\n",
       "      <td>4</td>\n",
       "    </tr>\n",
       "  </tbody>\n",
       "</table>\n",
       "<p>1016 rows × 4 columns</p>\n",
       "</div>"
      ],
      "text/plain": [
       "      state   latitude   longitude  user_number\n",
       "0      Acre  -8.065346  -72.870949           15\n",
       "1      Acre  -8.325245  -71.553030            8\n",
       "2      Acre  -9.857324  -69.437057           10\n",
       "3      Acre  -9.945568  -67.835610            9\n",
       "4     Aichi  35.317684  136.767047            1\n",
       "...     ...        ...         ...          ...\n",
       "1011  Bahia -13.179466  -42.710694            9\n",
       "1012  Bahia -13.976677  -42.497357            8\n",
       "1013  Bahia  -9.600617  -42.255133            9\n",
       "1014  Bahia -13.808923  -42.009178           10\n",
       "1015  Bahia -12.426667  -41.879989            4\n",
       "\n",
       "[1016 rows x 4 columns]"
      ]
     },
     "execution_count": 150,
     "metadata": {},
     "output_type": "execute_result"
    }
   ],
   "source": [
    "pd.merge(df1,df2, on = ['latitude','longitude'])"
   ]
  },
  {
   "cell_type": "code",
   "execution_count": null,
   "metadata": {
    "id": "8kg4OC3v1dWh",
    "outputId": "e7501768-c3be-4c70-ef14-090d8cea2854"
   },
   "outputs": [
    {
     "data": {
      "text/plain": [
       "'\\n[Hint]\\n1. Use pd.merge() for data merge\\n'"
      ]
     },
     "execution_count": 31,
     "metadata": {},
     "output_type": "execute_result"
    }
   ],
   "source": [
    "'''\n",
    "[Hint]\n",
    "1. Use pd.merge() for data merge\n",
    "'''"
   ]
  },
  {
   "cell_type": "markdown",
   "metadata": {
    "id": "sRmyTwvw1dWh"
   },
   "source": [
    "<img src=\"./images/Q3.png\" width=\"60%\">"
   ]
  },
  {
   "cell_type": "markdown",
   "metadata": {
    "id": "C8UfR_mLMupv"
   },
   "source": [
    "---\n",
    "# Q4. SQL – Data Extraction and Join"
   ]
  },
  {
   "cell_type": "code",
   "execution_count": 3,
   "metadata": {
    "id": "kyOjFRrsMupw",
    "outputId": "ea30b591-9c57-43bf-8bce-6fdcaf342a3d"
   },
   "outputs": [
    {
     "name": "stderr",
     "output_type": "stream",
     "text": [
      "130.69s - pydevd: Sending message related to process being replaced timed-out after 5 seconds\n"
     ]
    },
    {
     "name": "stdout",
     "output_type": "stream",
     "text": [
      "Requirement already satisfied: mysql-connector-python in /Users/choehayeong/Desktop/Metacode DA/testenv/lib/python3.11/site-packages (9.3.0)\n",
      "Note: you may need to restart the kernel to use updated packages.\n"
     ]
    }
   ],
   "source": [
    "# Q4. SQL – Data Extraction and Join\n",
    "\n",
    "# All data preprocessing must be done strictly using SQL.\n",
    "\n",
    "# [Goal]\n",
    "# Create 3 DataFrames through SQL queries.\n",
    "\n",
    "# [Database]\n",
    "# Use the classicmodels database\n",
    "# Follow below steps to set up 'classicmodels' database\n",
    "# 1. Insert \"mysqlsampledatabase.sql\" query into your MySQLWorkbench (File Provided)\n",
    "\n",
    "# [Tables]\n",
    "# orders, orderdetails\n",
    "\n",
    "# [Steps]\n",
    "# connect the classicmodels database using mysql.connector\n",
    "\n",
    "# (1) Display the orders DataFrame\n",
    "# Load all columns from the orders table into a DataFrame.\n",
    "# Display data information (as shown in the cell output).\n",
    "# Show the top 5 rows of the DataFrame.\n",
    "\n",
    "# (2) Display the orderdetails DataFrame\n",
    "# Load all columns from the orderdetails table into a DataFrame.\n",
    "# Display data information (as shown in the cell output).\n",
    "# Show the top 5 rows of the DataFrame.\n",
    "\n",
    "# (3) Create a joined DataFrame of orders and orderdetails\n",
    "# Join all columns from orders and orderdetails into a new DataFrame.\n",
    "# Join condition: orderNumber\n",
    "# Perform the data extraction and join only using SQL queries (not Pandas merging).\n",
    "# Display data information (as shown in the cell output).\n",
    "# Show the top 5 rows of the DataFrame.\n",
    "\n",
    "import warnings\n",
    "warnings.filterwarnings('ignore')\n",
    "\n",
    "%pip install mysql-connector-python\n"
   ]
  },
  {
   "cell_type": "code",
   "execution_count": 18,
   "metadata": {},
   "outputs": [],
   "source": [
    "import mysql.connector\n",
    "import pandas as pd\n",
    "conn = mysql.connector.connect(\n",
    "    host='localhost',\n",
    "    user='root',\n",
    "    password='Dkddl0302!',\n",
    "    database='classicmodels'\n",
    ")\n",
    "\n"
   ]
  },
  {
   "cell_type": "code",
   "execution_count": 56,
   "metadata": {},
   "outputs": [
    {
     "name": "stdout",
     "output_type": "stream",
     "text": [
      "(326, 7)\n"
     ]
    },
    {
     "data": {
      "text/html": [
       "<div>\n",
       "<style scoped>\n",
       "    .dataframe tbody tr th:only-of-type {\n",
       "        vertical-align: middle;\n",
       "    }\n",
       "\n",
       "    .dataframe tbody tr th {\n",
       "        vertical-align: top;\n",
       "    }\n",
       "\n",
       "    .dataframe thead th {\n",
       "        text-align: right;\n",
       "    }\n",
       "</style>\n",
       "<table border=\"1\" class=\"dataframe\">\n",
       "  <thead>\n",
       "    <tr style=\"text-align: right;\">\n",
       "      <th></th>\n",
       "      <th>orderNumber</th>\n",
       "      <th>orderDate</th>\n",
       "      <th>requiredDate</th>\n",
       "      <th>shippedDate</th>\n",
       "      <th>status</th>\n",
       "      <th>comments</th>\n",
       "      <th>customerNumber</th>\n",
       "    </tr>\n",
       "  </thead>\n",
       "  <tbody>\n",
       "    <tr>\n",
       "      <th>0</th>\n",
       "      <td>10100</td>\n",
       "      <td>2003-01-06</td>\n",
       "      <td>2003-01-13</td>\n",
       "      <td>2003-01-10</td>\n",
       "      <td>Shipped</td>\n",
       "      <td>None</td>\n",
       "      <td>363</td>\n",
       "    </tr>\n",
       "    <tr>\n",
       "      <th>1</th>\n",
       "      <td>10101</td>\n",
       "      <td>2003-01-09</td>\n",
       "      <td>2003-01-18</td>\n",
       "      <td>2003-01-11</td>\n",
       "      <td>Shipped</td>\n",
       "      <td>Check on availability.</td>\n",
       "      <td>128</td>\n",
       "    </tr>\n",
       "    <tr>\n",
       "      <th>2</th>\n",
       "      <td>10102</td>\n",
       "      <td>2003-01-10</td>\n",
       "      <td>2003-01-18</td>\n",
       "      <td>2003-01-14</td>\n",
       "      <td>Shipped</td>\n",
       "      <td>None</td>\n",
       "      <td>181</td>\n",
       "    </tr>\n",
       "    <tr>\n",
       "      <th>3</th>\n",
       "      <td>10103</td>\n",
       "      <td>2003-01-29</td>\n",
       "      <td>2003-02-07</td>\n",
       "      <td>2003-02-02</td>\n",
       "      <td>Shipped</td>\n",
       "      <td>None</td>\n",
       "      <td>121</td>\n",
       "    </tr>\n",
       "    <tr>\n",
       "      <th>4</th>\n",
       "      <td>10104</td>\n",
       "      <td>2003-01-31</td>\n",
       "      <td>2003-02-09</td>\n",
       "      <td>2003-02-01</td>\n",
       "      <td>Shipped</td>\n",
       "      <td>None</td>\n",
       "      <td>141</td>\n",
       "    </tr>\n",
       "  </tbody>\n",
       "</table>\n",
       "</div>"
      ],
      "text/plain": [
       "   orderNumber   orderDate requiredDate shippedDate   status  \\\n",
       "0        10100  2003-01-06   2003-01-13  2003-01-10  Shipped   \n",
       "1        10101  2003-01-09   2003-01-18  2003-01-11  Shipped   \n",
       "2        10102  2003-01-10   2003-01-18  2003-01-14  Shipped   \n",
       "3        10103  2003-01-29   2003-02-07  2003-02-02  Shipped   \n",
       "4        10104  2003-01-31   2003-02-09  2003-02-01  Shipped   \n",
       "\n",
       "                 comments  customerNumber  \n",
       "0                    None             363  \n",
       "1  Check on availability.             128  \n",
       "2                    None             181  \n",
       "3                    None             121  \n",
       "4                    None             141  "
      ]
     },
     "execution_count": 56,
     "metadata": {},
     "output_type": "execute_result"
    }
   ],
   "source": [
    "#(1) orders dataframe\n",
    "query = \"\"\"\n",
    "    select *\n",
    "    from orders\"\"\"\n",
    "result = pd.read_sql(query,con = conn)\n",
    "\n",
    "print(result.shape)\n",
    "result.head()\n",
    "\n",
    "\n"
   ]
  },
  {
   "cell_type": "code",
   "execution_count": 57,
   "metadata": {},
   "outputs": [
    {
     "name": "stdout",
     "output_type": "stream",
     "text": [
      "(2996, 5)\n"
     ]
    },
    {
     "data": {
      "text/html": [
       "<div>\n",
       "<style scoped>\n",
       "    .dataframe tbody tr th:only-of-type {\n",
       "        vertical-align: middle;\n",
       "    }\n",
       "\n",
       "    .dataframe tbody tr th {\n",
       "        vertical-align: top;\n",
       "    }\n",
       "\n",
       "    .dataframe thead th {\n",
       "        text-align: right;\n",
       "    }\n",
       "</style>\n",
       "<table border=\"1\" class=\"dataframe\">\n",
       "  <thead>\n",
       "    <tr style=\"text-align: right;\">\n",
       "      <th></th>\n",
       "      <th>orderNumber</th>\n",
       "      <th>productCode</th>\n",
       "      <th>quantityOrdered</th>\n",
       "      <th>priceEach</th>\n",
       "      <th>orderLineNumber</th>\n",
       "    </tr>\n",
       "  </thead>\n",
       "  <tbody>\n",
       "    <tr>\n",
       "      <th>0</th>\n",
       "      <td>10100</td>\n",
       "      <td>S18_1749</td>\n",
       "      <td>30</td>\n",
       "      <td>136.00</td>\n",
       "      <td>3</td>\n",
       "    </tr>\n",
       "    <tr>\n",
       "      <th>1</th>\n",
       "      <td>10100</td>\n",
       "      <td>S18_2248</td>\n",
       "      <td>50</td>\n",
       "      <td>55.09</td>\n",
       "      <td>2</td>\n",
       "    </tr>\n",
       "    <tr>\n",
       "      <th>2</th>\n",
       "      <td>10100</td>\n",
       "      <td>S18_4409</td>\n",
       "      <td>22</td>\n",
       "      <td>75.46</td>\n",
       "      <td>4</td>\n",
       "    </tr>\n",
       "    <tr>\n",
       "      <th>3</th>\n",
       "      <td>10100</td>\n",
       "      <td>S24_3969</td>\n",
       "      <td>49</td>\n",
       "      <td>35.29</td>\n",
       "      <td>1</td>\n",
       "    </tr>\n",
       "    <tr>\n",
       "      <th>4</th>\n",
       "      <td>10101</td>\n",
       "      <td>S18_2325</td>\n",
       "      <td>25</td>\n",
       "      <td>108.06</td>\n",
       "      <td>4</td>\n",
       "    </tr>\n",
       "  </tbody>\n",
       "</table>\n",
       "</div>"
      ],
      "text/plain": [
       "   orderNumber productCode  quantityOrdered  priceEach  orderLineNumber\n",
       "0        10100    S18_1749               30     136.00                3\n",
       "1        10100    S18_2248               50      55.09                2\n",
       "2        10100    S18_4409               22      75.46                4\n",
       "3        10100    S24_3969               49      35.29                1\n",
       "4        10101    S18_2325               25     108.06                4"
      ]
     },
     "execution_count": 57,
     "metadata": {},
     "output_type": "execute_result"
    }
   ],
   "source": [
    "#(2)orderdetails DataFrame\n",
    "query = \"\"\"\n",
    "    select *\n",
    "    from orderdetails\"\"\"\n",
    "result = pd.read_sql(query,con = conn)\n",
    "\n",
    "print(result.shape)\n",
    "result.head()\n",
    "\n",
    "\n",
    "\n",
    "\n"
   ]
  },
  {
   "cell_type": "code",
   "execution_count": 58,
   "metadata": {},
   "outputs": [
    {
     "name": "stdout",
     "output_type": "stream",
     "text": [
      "(2996, 12)\n"
     ]
    },
    {
     "data": {
      "text/html": [
       "<div>\n",
       "<style scoped>\n",
       "    .dataframe tbody tr th:only-of-type {\n",
       "        vertical-align: middle;\n",
       "    }\n",
       "\n",
       "    .dataframe tbody tr th {\n",
       "        vertical-align: top;\n",
       "    }\n",
       "\n",
       "    .dataframe thead th {\n",
       "        text-align: right;\n",
       "    }\n",
       "</style>\n",
       "<table border=\"1\" class=\"dataframe\">\n",
       "  <thead>\n",
       "    <tr style=\"text-align: right;\">\n",
       "      <th></th>\n",
       "      <th>orderNumber</th>\n",
       "      <th>productCode</th>\n",
       "      <th>quantityOrdered</th>\n",
       "      <th>priceEach</th>\n",
       "      <th>orderLineNumber</th>\n",
       "      <th>orderNumber</th>\n",
       "      <th>orderDate</th>\n",
       "      <th>requiredDate</th>\n",
       "      <th>shippedDate</th>\n",
       "      <th>status</th>\n",
       "      <th>comments</th>\n",
       "      <th>customerNumber</th>\n",
       "    </tr>\n",
       "  </thead>\n",
       "  <tbody>\n",
       "    <tr>\n",
       "      <th>0</th>\n",
       "      <td>10100</td>\n",
       "      <td>S18_1749</td>\n",
       "      <td>30</td>\n",
       "      <td>136.00</td>\n",
       "      <td>3</td>\n",
       "      <td>10100</td>\n",
       "      <td>2003-01-06</td>\n",
       "      <td>2003-01-13</td>\n",
       "      <td>2003-01-10</td>\n",
       "      <td>Shipped</td>\n",
       "      <td>None</td>\n",
       "      <td>363</td>\n",
       "    </tr>\n",
       "    <tr>\n",
       "      <th>1</th>\n",
       "      <td>10100</td>\n",
       "      <td>S18_2248</td>\n",
       "      <td>50</td>\n",
       "      <td>55.09</td>\n",
       "      <td>2</td>\n",
       "      <td>10100</td>\n",
       "      <td>2003-01-06</td>\n",
       "      <td>2003-01-13</td>\n",
       "      <td>2003-01-10</td>\n",
       "      <td>Shipped</td>\n",
       "      <td>None</td>\n",
       "      <td>363</td>\n",
       "    </tr>\n",
       "    <tr>\n",
       "      <th>2</th>\n",
       "      <td>10100</td>\n",
       "      <td>S18_4409</td>\n",
       "      <td>22</td>\n",
       "      <td>75.46</td>\n",
       "      <td>4</td>\n",
       "      <td>10100</td>\n",
       "      <td>2003-01-06</td>\n",
       "      <td>2003-01-13</td>\n",
       "      <td>2003-01-10</td>\n",
       "      <td>Shipped</td>\n",
       "      <td>None</td>\n",
       "      <td>363</td>\n",
       "    </tr>\n",
       "    <tr>\n",
       "      <th>3</th>\n",
       "      <td>10100</td>\n",
       "      <td>S24_3969</td>\n",
       "      <td>49</td>\n",
       "      <td>35.29</td>\n",
       "      <td>1</td>\n",
       "      <td>10100</td>\n",
       "      <td>2003-01-06</td>\n",
       "      <td>2003-01-13</td>\n",
       "      <td>2003-01-10</td>\n",
       "      <td>Shipped</td>\n",
       "      <td>None</td>\n",
       "      <td>363</td>\n",
       "    </tr>\n",
       "    <tr>\n",
       "      <th>4</th>\n",
       "      <td>10101</td>\n",
       "      <td>S18_2325</td>\n",
       "      <td>25</td>\n",
       "      <td>108.06</td>\n",
       "      <td>4</td>\n",
       "      <td>10101</td>\n",
       "      <td>2003-01-09</td>\n",
       "      <td>2003-01-18</td>\n",
       "      <td>2003-01-11</td>\n",
       "      <td>Shipped</td>\n",
       "      <td>Check on availability.</td>\n",
       "      <td>128</td>\n",
       "    </tr>\n",
       "  </tbody>\n",
       "</table>\n",
       "</div>"
      ],
      "text/plain": [
       "   orderNumber productCode  quantityOrdered  priceEach  orderLineNumber  \\\n",
       "0        10100    S18_1749               30     136.00                3   \n",
       "1        10100    S18_2248               50      55.09                2   \n",
       "2        10100    S18_4409               22      75.46                4   \n",
       "3        10100    S24_3969               49      35.29                1   \n",
       "4        10101    S18_2325               25     108.06                4   \n",
       "\n",
       "   orderNumber   orderDate requiredDate shippedDate   status  \\\n",
       "0        10100  2003-01-06   2003-01-13  2003-01-10  Shipped   \n",
       "1        10100  2003-01-06   2003-01-13  2003-01-10  Shipped   \n",
       "2        10100  2003-01-06   2003-01-13  2003-01-10  Shipped   \n",
       "3        10100  2003-01-06   2003-01-13  2003-01-10  Shipped   \n",
       "4        10101  2003-01-09   2003-01-18  2003-01-11  Shipped   \n",
       "\n",
       "                 comments  customerNumber  \n",
       "0                    None             363  \n",
       "1                    None             363  \n",
       "2                    None             363  \n",
       "3                    None             363  \n",
       "4  Check on availability.             128  "
      ]
     },
     "execution_count": 58,
     "metadata": {},
     "output_type": "execute_result"
    }
   ],
   "source": [
    "#(3) Create a joined DataFrame of orders and orderdetails\n",
    "\n",
    "query = \"\"\"\n",
    "    select *\n",
    "    from orderdetails as o \n",
    "    join orders as od on o.orderNumber = od.orderNumber\n",
    "    \"\"\"\n",
    "result = pd.read_sql(query,con = conn)\n",
    "\n",
    "print(result.shape)\n",
    "result.head()"
   ]
  },
  {
   "cell_type": "code",
   "execution_count": null,
   "metadata": {
    "id": "7CaCb9NB1dWh",
    "outputId": "cd267856-abbf-450c-d7ce-2e7dbdb0a343"
   },
   "outputs": [
    {
     "data": {
      "text/plain": [
       "\"\\n[Hint]\\nUse \\nmysql.connector.connect(host= '',\\n                        user= '',\\n                        password='',\\n                        database='')\\n\\nYou can query using\\npd.read_sql()\\n\""
      ]
     },
     "execution_count": 33,
     "metadata": {},
     "output_type": "execute_result"
    }
   ],
   "source": [
    "'''\n",
    "[Hint]\n",
    "Use\n",
    "mysql.connector.connect(host= '',\n",
    "                        user= '',\n",
    "                        password='',\n",
    "                        database='')\n",
    "\n",
    "You can query using\n",
    "pd.read_sql()\n",
    "'''"
   ]
  },
  {
   "cell_type": "markdown",
   "metadata": {
    "id": "vkGjJ_AL1dWh"
   },
   "source": [
    "<img src=\"./images/Q4.png\" width=\"70%\">"
   ]
  },
  {
   "cell_type": "markdown",
   "metadata": {
    "id": "7zYT1hlpMupw"
   },
   "source": [
    "---\n",
    "# Q5. SQL – Categorizing by Delivery Duration"
   ]
  },
  {
   "cell_type": "code",
   "execution_count": 59,
   "metadata": {
    "id": "O5b8nq2_px9_"
   },
   "outputs": [],
   "source": [
    "# SQL – Categorizing by Delivery Duration\n",
    "\n",
    "# All data preprocessing must be done strictly using SQL.\n",
    "\n",
    "# [Goal]\n",
    "# Classify data based on delivery duration.\n",
    "\n",
    "# [Database]\n",
    "# Use the classicmodels database\n",
    "\n",
    "# [Tables]\n",
    "# ORDERS, ORDERDETAILS\n",
    "\n",
    "# [Steps]\n",
    "# Add a SALES column : Calculate it using priceEach * quantityOrdered.\n",
    "# Add a SHIPPING_SPEED column\n",
    "# - SHIPPEDDATE - ORDERDATE <= 2 \"Express\"\n",
    "# - SHIPPEDDATE - ORDERDATE between 3 and 5 days : \"Standard\"\n",
    "# - Otherwise : \"Delayed\"\n",
    "# No additional processing required for NULL values.\n",
    "\n",
    "# [Result]\n",
    "# Display the result as a DataFrame.\n",
    "\n",
    "import warnings\n",
    "warnings.filterwarnings('ignore')"
   ]
  },
  {
   "cell_type": "code",
   "execution_count": 96,
   "metadata": {},
   "outputs": [
    {
     "data": {
      "text/html": [
       "<div>\n",
       "<style scoped>\n",
       "    .dataframe tbody tr th:only-of-type {\n",
       "        vertical-align: middle;\n",
       "    }\n",
       "\n",
       "    .dataframe tbody tr th {\n",
       "        vertical-align: top;\n",
       "    }\n",
       "\n",
       "    .dataframe thead th {\n",
       "        text-align: right;\n",
       "    }\n",
       "</style>\n",
       "<table border=\"1\" class=\"dataframe\">\n",
       "  <thead>\n",
       "    <tr style=\"text-align: right;\">\n",
       "      <th></th>\n",
       "      <th>orderNumber</th>\n",
       "      <th>orderDate</th>\n",
       "      <th>shippedDate</th>\n",
       "      <th>SHIPPING_SPEED</th>\n",
       "      <th>SHIPPING_TYPE</th>\n",
       "      <th>productCode</th>\n",
       "      <th>SALES</th>\n",
       "    </tr>\n",
       "  </thead>\n",
       "  <tbody>\n",
       "    <tr>\n",
       "      <th>0</th>\n",
       "      <td>10100</td>\n",
       "      <td>2003-01-06</td>\n",
       "      <td>2003-01-10</td>\n",
       "      <td>4.0</td>\n",
       "      <td>Standard</td>\n",
       "      <td>S18_1749</td>\n",
       "      <td>4080.00</td>\n",
       "    </tr>\n",
       "    <tr>\n",
       "      <th>1</th>\n",
       "      <td>10100</td>\n",
       "      <td>2003-01-06</td>\n",
       "      <td>2003-01-10</td>\n",
       "      <td>4.0</td>\n",
       "      <td>Standard</td>\n",
       "      <td>S18_2248</td>\n",
       "      <td>2754.50</td>\n",
       "    </tr>\n",
       "    <tr>\n",
       "      <th>2</th>\n",
       "      <td>10100</td>\n",
       "      <td>2003-01-06</td>\n",
       "      <td>2003-01-10</td>\n",
       "      <td>4.0</td>\n",
       "      <td>Standard</td>\n",
       "      <td>S18_4409</td>\n",
       "      <td>1660.12</td>\n",
       "    </tr>\n",
       "    <tr>\n",
       "      <th>3</th>\n",
       "      <td>10100</td>\n",
       "      <td>2003-01-06</td>\n",
       "      <td>2003-01-10</td>\n",
       "      <td>4.0</td>\n",
       "      <td>Standard</td>\n",
       "      <td>S24_3969</td>\n",
       "      <td>1729.21</td>\n",
       "    </tr>\n",
       "    <tr>\n",
       "      <th>4</th>\n",
       "      <td>10101</td>\n",
       "      <td>2003-01-09</td>\n",
       "      <td>2003-01-11</td>\n",
       "      <td>2.0</td>\n",
       "      <td>Express</td>\n",
       "      <td>S18_2325</td>\n",
       "      <td>2701.50</td>\n",
       "    </tr>\n",
       "    <tr>\n",
       "      <th>...</th>\n",
       "      <td>...</td>\n",
       "      <td>...</td>\n",
       "      <td>...</td>\n",
       "      <td>...</td>\n",
       "      <td>...</td>\n",
       "      <td>...</td>\n",
       "      <td>...</td>\n",
       "    </tr>\n",
       "    <tr>\n",
       "      <th>2991</th>\n",
       "      <td>10425</td>\n",
       "      <td>2005-05-31</td>\n",
       "      <td>None</td>\n",
       "      <td>NaN</td>\n",
       "      <td>Delayed</td>\n",
       "      <td>S24_2300</td>\n",
       "      <td>6261.71</td>\n",
       "    </tr>\n",
       "    <tr>\n",
       "      <th>2992</th>\n",
       "      <td>10425</td>\n",
       "      <td>2005-05-31</td>\n",
       "      <td>None</td>\n",
       "      <td>NaN</td>\n",
       "      <td>Delayed</td>\n",
       "      <td>S24_2840</td>\n",
       "      <td>986.42</td>\n",
       "    </tr>\n",
       "    <tr>\n",
       "      <th>2993</th>\n",
       "      <td>10425</td>\n",
       "      <td>2005-05-31</td>\n",
       "      <td>None</td>\n",
       "      <td>NaN</td>\n",
       "      <td>Delayed</td>\n",
       "      <td>S32_1268</td>\n",
       "      <td>3435.39</td>\n",
       "    </tr>\n",
       "    <tr>\n",
       "      <th>2994</th>\n",
       "      <td>10425</td>\n",
       "      <td>2005-05-31</td>\n",
       "      <td>None</td>\n",
       "      <td>NaN</td>\n",
       "      <td>Delayed</td>\n",
       "      <td>S32_2509</td>\n",
       "      <td>553.52</td>\n",
       "    </tr>\n",
       "    <tr>\n",
       "      <th>2995</th>\n",
       "      <td>10425</td>\n",
       "      <td>2005-05-31</td>\n",
       "      <td>None</td>\n",
       "      <td>NaN</td>\n",
       "      <td>Delayed</td>\n",
       "      <td>S50_1392</td>\n",
       "      <td>1708.56</td>\n",
       "    </tr>\n",
       "  </tbody>\n",
       "</table>\n",
       "<p>2996 rows × 7 columns</p>\n",
       "</div>"
      ],
      "text/plain": [
       "      orderNumber   orderDate shippedDate  SHIPPING_SPEED SHIPPING_TYPE  \\\n",
       "0           10100  2003-01-06  2003-01-10             4.0      Standard   \n",
       "1           10100  2003-01-06  2003-01-10             4.0      Standard   \n",
       "2           10100  2003-01-06  2003-01-10             4.0      Standard   \n",
       "3           10100  2003-01-06  2003-01-10             4.0      Standard   \n",
       "4           10101  2003-01-09  2003-01-11             2.0       Express   \n",
       "...           ...         ...         ...             ...           ...   \n",
       "2991        10425  2005-05-31        None             NaN       Delayed   \n",
       "2992        10425  2005-05-31        None             NaN       Delayed   \n",
       "2993        10425  2005-05-31        None             NaN       Delayed   \n",
       "2994        10425  2005-05-31        None             NaN       Delayed   \n",
       "2995        10425  2005-05-31        None             NaN       Delayed   \n",
       "\n",
       "     productCode    SALES  \n",
       "0       S18_1749  4080.00  \n",
       "1       S18_2248  2754.50  \n",
       "2       S18_4409  1660.12  \n",
       "3       S24_3969  1729.21  \n",
       "4       S18_2325  2701.50  \n",
       "...          ...      ...  \n",
       "2991    S24_2300  6261.71  \n",
       "2992    S24_2840   986.42  \n",
       "2993    S32_1268  3435.39  \n",
       "2994    S32_2509   553.52  \n",
       "2995    S50_1392  1708.56  \n",
       "\n",
       "[2996 rows x 7 columns]"
      ]
     },
     "execution_count": 96,
     "metadata": {},
     "output_type": "execute_result"
    }
   ],
   "source": [
    "query = \"\"\"\n",
    "with all_orders as (\n",
    "    select \n",
    "        o.orderNumber, \n",
    "        o.productCode,\n",
    "        o.quantityOrdered,\n",
    "        o.priceEach,\n",
    "        od.orderDate,\n",
    "        od.shippedDate\n",
    "    from orderdetails as o\n",
    "    join orders as od on o.orderNumber = od.orderNumber\n",
    ")\n",
    "select \n",
    "    orderNumber, \n",
    "    orderDate,\n",
    "    shippedDate,\n",
    "    datediff(shippedDate, orderDate) as SHIPPING_SPEED,\n",
    "    case \n",
    "        when datediff(shippedDate, orderDate) <= 2 then \"Express\"\n",
    "        when datediff(shippedDate, orderDate) between 3 and 5 then \"Standard\"\n",
    "        else \"Delayed\"\n",
    "    end as SHIPPING_TYPE ,\n",
    "    productCode,\n",
    "    priceEach * quantityOrdered as SALES\n",
    "from all_orders\n",
    "\n",
    "\"\"\"\n",
    "\n",
    "result = pd.read_sql(query,con = conn)\n",
    "\n",
    "\n",
    "result"
   ]
  },
  {
   "cell_type": "code",
   "execution_count": null,
   "metadata": {
    "id": "WQ4bxKrr1dWi",
    "outputId": "9fc65a3b-7ef1-4e78-9a2f-76423ccf7de4"
   },
   "outputs": [
    {
     "data": {
      "text/plain": [
       "'\\n[Hint]\\nYou can use CASE WHEN to transform or represent data based on specific conditions.\\n'"
      ]
     },
     "execution_count": 35,
     "metadata": {},
     "output_type": "execute_result"
    }
   ],
   "source": [
    "'''\n",
    "[Hint]\n",
    "You can use CASE WHEN to transform or represent data based on specific conditions.\n",
    "'''"
   ]
  },
  {
   "cell_type": "markdown",
   "metadata": {
    "id": "a5FxdbHQ1dWi"
   },
   "source": [
    "<img src=\"./images/Q5.png\" width=\"60%\">"
   ]
  },
  {
   "cell_type": "markdown",
   "metadata": {
    "id": "K4xUZgd-Mupw"
   },
   "source": [
    "---\n",
    "# Q6. SQL Aggregation - Number of Orders and Customers by Country"
   ]
  },
  {
   "cell_type": "markdown",
   "metadata": {
    "id": "HIP38tZm1dWi"
   },
   "source": [
    "[Note]\n",
    "- Data preprocessing must be done using SQL.\n",
    "\n",
    "[Goal]\n",
    "- Aggregation by country.\n",
    "\n",
    "[Database]\n",
    "- Use the classicmodels database\n",
    "\n",
    "[Tables]\n",
    "- ORDERS, CUSTOMERS\n",
    "\n",
    "[Steps]\n",
    "- Only include records from orders where the status is 'Shipped'\n",
    "\n",
    "[Aggregation Requirements]\n",
    "- Count the number of orders per country\n",
    "- Count the number of unique customers per country\n",
    "\n",
    "[Result]\n",
    "- Return results that match the expected output shown below"
   ]
  },
  {
   "cell_type": "code",
   "execution_count": null,
   "metadata": {
    "id": "8z0WZzjsMupw",
    "outputId": "185241e1-e39e-4876-e80e-b814e25901db"
   },
   "outputs": [
    {
     "data": {
      "text/plain": [
       "'\\n[Hint]  \\n- You can use DISTINCT to count the number of unique users.  \\n- Use JOIN to combine data in SQL.  \\n- Use WHERE to set conditions in SQL.\\n'"
      ]
     },
     "execution_count": 36,
     "metadata": {},
     "output_type": "execute_result"
    }
   ],
   "source": [
    "\"\"\"\n",
    "[Hint]\n",
    "- You can use DISTINCT to count the number of unique users.\n",
    "- Use JOIN to combine data in SQL.\n",
    "- Use WHERE to set conditions in SQL.\n",
    "\"\"\""
   ]
  },
  {
   "cell_type": "code",
   "execution_count": 98,
   "metadata": {},
   "outputs": [
    {
     "name": "stdout",
     "output_type": "stream",
     "text": [
      "(22, 3)\n"
     ]
    },
    {
     "data": {
      "text/html": [
       "<div>\n",
       "<style scoped>\n",
       "    .dataframe tbody tr th:only-of-type {\n",
       "        vertical-align: middle;\n",
       "    }\n",
       "\n",
       "    .dataframe tbody tr th {\n",
       "        vertical-align: top;\n",
       "    }\n",
       "\n",
       "    .dataframe thead th {\n",
       "        text-align: right;\n",
       "    }\n",
       "</style>\n",
       "<table border=\"1\" class=\"dataframe\">\n",
       "  <thead>\n",
       "    <tr style=\"text-align: right;\">\n",
       "      <th></th>\n",
       "      <th>country</th>\n",
       "      <th>orders_count</th>\n",
       "      <th>unique_customers_count</th>\n",
       "    </tr>\n",
       "  </thead>\n",
       "  <tbody>\n",
       "    <tr>\n",
       "      <th>0</th>\n",
       "      <td>Australia</td>\n",
       "      <td>17</td>\n",
       "      <td>5</td>\n",
       "    </tr>\n",
       "    <tr>\n",
       "      <th>1</th>\n",
       "      <td>Austria</td>\n",
       "      <td>6</td>\n",
       "      <td>2</td>\n",
       "    </tr>\n",
       "    <tr>\n",
       "      <th>2</th>\n",
       "      <td>Belgium</td>\n",
       "      <td>6</td>\n",
       "      <td>2</td>\n",
       "    </tr>\n",
       "    <tr>\n",
       "      <th>3</th>\n",
       "      <td>Canada</td>\n",
       "      <td>7</td>\n",
       "      <td>3</td>\n",
       "    </tr>\n",
       "    <tr>\n",
       "      <th>4</th>\n",
       "      <td>Denmark</td>\n",
       "      <td>5</td>\n",
       "      <td>2</td>\n",
       "    </tr>\n",
       "  </tbody>\n",
       "</table>\n",
       "</div>"
      ],
      "text/plain": [
       "     country  orders_count  unique_customers_count\n",
       "0  Australia            17                       5\n",
       "1    Austria             6                       2\n",
       "2    Belgium             6                       2\n",
       "3     Canada             7                       3\n",
       "4    Denmark             5                       2"
      ]
     },
     "execution_count": 98,
     "metadata": {},
     "output_type": "execute_result"
    }
   ],
   "source": [
    "query = \"\"\"\n",
    "    select\n",
    "    c.country,\n",
    "    count(o.orderNumber) as orders_count,\n",
    "    count(distinct o.customerNumber) as unique_customers_count\n",
    "from orders o\n",
    "join customers c on o.customerNumber = c.customerNumber\n",
    "where o.status = 'Shipped'\n",
    "group by c.country\n",
    "order by c.country;\n",
    "    \"\"\"\n",
    "result = pd.read_sql(query,con = conn)\n",
    "\n",
    "print(result.shape)\n",
    "result.head()\n"
   ]
  },
  {
   "cell_type": "markdown",
   "metadata": {
    "id": "Miwd8uiv1dWi"
   },
   "source": [
    "<img src=\"./images/Q6.png\" width=\"40%\">"
   ]
  },
  {
   "cell_type": "markdown",
   "metadata": {
    "id": "Q40mZU0fMupw"
   },
   "source": [
    "---\n",
    "# Q7. SQL Aggregation – Number of Employees by Country"
   ]
  },
  {
   "cell_type": "code",
   "execution_count": 99,
   "metadata": {
    "id": "sIhyYhjSMupw"
   },
   "outputs": [],
   "source": [
    "# SQL Aggregation – Number of Employees by Country\n",
    "\n",
    "# Data preprocessing must be done using SQL.\n",
    "\n",
    "# [Goal]\n",
    "# Aggregate and check the number of employees by country.\n",
    "\n",
    "# [Database]\n",
    "# Use the classicmodels database\n",
    "\n",
    "# [Join Key]\n",
    "# officecode\n",
    "\n",
    "# [Tables]\n",
    "# employees, offices\n",
    "\n",
    "# [Result]\n",
    "# Aggregated number of employees per country\n",
    "# Sort the results in descending order based on the number of employees → must be done in SQL\n",
    "# Column names must match the expected output shown in the cell → must be set in SQL\n",
    "\n",
    "import warnings\n",
    "warnings.filterwarnings('ignore')\n",
    "\n"
   ]
  },
  {
   "cell_type": "code",
   "execution_count": 102,
   "metadata": {},
   "outputs": [
    {
     "name": "stdout",
     "output_type": "stream",
     "text": [
      "(5, 2)\n"
     ]
    },
    {
     "data": {
      "text/html": [
       "<div>\n",
       "<style scoped>\n",
       "    .dataframe tbody tr th:only-of-type {\n",
       "        vertical-align: middle;\n",
       "    }\n",
       "\n",
       "    .dataframe tbody tr th {\n",
       "        vertical-align: top;\n",
       "    }\n",
       "\n",
       "    .dataframe thead th {\n",
       "        text-align: right;\n",
       "    }\n",
       "</style>\n",
       "<table border=\"1\" class=\"dataframe\">\n",
       "  <thead>\n",
       "    <tr style=\"text-align: right;\">\n",
       "      <th></th>\n",
       "      <th>country</th>\n",
       "      <th>employee_number</th>\n",
       "    </tr>\n",
       "  </thead>\n",
       "  <tbody>\n",
       "    <tr>\n",
       "      <th>0</th>\n",
       "      <td>USA</td>\n",
       "      <td>10</td>\n",
       "    </tr>\n",
       "    <tr>\n",
       "      <th>1</th>\n",
       "      <td>France</td>\n",
       "      <td>5</td>\n",
       "    </tr>\n",
       "    <tr>\n",
       "      <th>2</th>\n",
       "      <td>Australia</td>\n",
       "      <td>4</td>\n",
       "    </tr>\n",
       "    <tr>\n",
       "      <th>3</th>\n",
       "      <td>Japan</td>\n",
       "      <td>2</td>\n",
       "    </tr>\n",
       "    <tr>\n",
       "      <th>4</th>\n",
       "      <td>UK</td>\n",
       "      <td>2</td>\n",
       "    </tr>\n",
       "  </tbody>\n",
       "</table>\n",
       "</div>"
      ],
      "text/plain": [
       "     country  employee_number\n",
       "0        USA               10\n",
       "1     France                5\n",
       "2  Australia                4\n",
       "3      Japan                2\n",
       "4         UK                2"
      ]
     },
     "execution_count": 102,
     "metadata": {},
     "output_type": "execute_result"
    }
   ],
   "source": [
    "query = \"\"\"\n",
    "    select \n",
    "    o.country as country,\n",
    "    count(e.employeeNumber) as employee_number\n",
    "from employees e\n",
    "join offices o on e.officeCode = o.officeCode\n",
    "group by o.country\n",
    "order by employee_number DESC;\n",
    "\n",
    "    \"\"\"\n",
    "result = pd.read_sql(query,con = conn)\n",
    "\n",
    "print(result.shape)\n",
    "result.head()\n"
   ]
  },
  {
   "cell_type": "code",
   "execution_count": null,
   "metadata": {
    "id": "WQL-AUDT1dWi",
    "outputId": "a0434409-66cb-4a00-fb7d-6e0168c620f3"
   },
   "outputs": [
    {
     "data": {
      "text/plain": [
       "'\\n[Hint]  \\n- Use ORDER BY to sort data in SQL.\\n'"
      ]
     },
     "execution_count": 38,
     "metadata": {},
     "output_type": "execute_result"
    }
   ],
   "source": [
    "\"\"\"\n",
    "[Hint]\n",
    "- Use ORDER BY to sort data in SQL.\n",
    "\"\"\""
   ]
  },
  {
   "cell_type": "markdown",
   "metadata": {
    "id": "5XPrOfkq1dWi"
   },
   "source": [
    "<img src=\"./images/Q7.png\" width=\"40%\">"
   ]
  },
  {
   "cell_type": "markdown",
   "metadata": {
    "id": "SKUIOukfpx-A"
   },
   "source": [
    "---\n",
    "# Q8. Visualization"
   ]
  },
  {
   "cell_type": "code",
   "execution_count": null,
   "metadata": {
    "id": "UiGbT1Avpx-A"
   },
   "outputs": [],
   "source": [
    "# Q8. Visualization\n",
    "\n",
    "# If you were unable to solve Q7, try solving this question using the provided file.\n",
    "# [Provided File] Q7_result.csv\n",
    "\n",
    "# [Goal]\n",
    "# Visualize the result data from Q7\n",
    "# Create a graph that matches the format shown in the output\n",
    "\n",
    "# [Visualization Details]\n",
    "# Include: title, xlabel, and ylabel"
   ]
  },
  {
   "cell_type": "code",
   "execution_count": 103,
   "metadata": {},
   "outputs": [
    {
     "data": {
      "image/png": "[encoded data removed]",
      "text/plain": [
       "<Figure size 640x480 with 1 Axes>"
      ]
     },
     "metadata": {},
     "output_type": "display_data"
    }
   ],
   "source": [
    "import matplotlib.pyplot as plt\n",
    "import seaborn as sns\n",
    "\n",
    "query = \"\"\"\n",
    "    select \n",
    "    o.country as country,\n",
    "    count(e.employeeNumber) as employee_number\n",
    "from employees e\n",
    "join offices o on e.officeCode = o.officeCode\n",
    "group by o.country\n",
    "order by employee_number DESC;\n",
    "\n",
    "    \"\"\"\n",
    "result = pd.read_sql(query,con = conn)\n",
    "\n",
    "plt.barh(result['country'],result['employee_number'])\n",
    "plt.title('Employee Country Info')\n",
    "plt.xlabel('number')\n",
    "plt.ylabel('country')\n",
    "plt.show()"
   ]
  },
  {
   "cell_type": "code",
   "execution_count": null,
   "metadata": {
    "id": "EZS8ou2V1dWj",
    "outputId": "87681257-1e10-4e9a-a812-65ee51db308f"
   },
   "outputs": [
    {
     "data": {
      "text/plain": [
       "'\\n[Hint]  \\n- You can use matplotlib and seaborn for data visualization.  \\n- To create a horizontal bar chart, use `plt.barh()`.  \\n- Use `title`, `xlabel`, and `ylabel` to set the chart title and axis labels.\\n'"
      ]
     },
     "execution_count": 40,
     "metadata": {},
     "output_type": "execute_result"
    }
   ],
   "source": [
    "\"\"\"\n",
    "[Hint]\n",
    "- You can use matplotlib and seaborn for data visualization.\n",
    "- To create a horizontal bar chart, use `plt.barh()`.\n",
    "- Use `title`, `xlabel`, and `ylabel` to set the chart title and axis labels.\n",
    "\"\"\""
   ]
  },
  {
   "cell_type": "markdown",
   "metadata": {
    "id": "puuZbaxl1dWj"
   },
   "source": [
    "<img src=\"./images/Q8.png\" width=\"40%\">"
   ]
  },
  {
   "cell_type": "markdown",
   "metadata": {
    "id": "LvIap8yIpx-B"
   },
   "source": [
    "# ※ Lab Assignment Guidelines\n",
    "[Important Notes for Lab Assignments]\n",
    "\n",
    "※ The grading criteria for lab assignments are as follows:\n",
    "\n",
    "1. Accuracy of Output Results\n",
    "\n",
    "    - Check whether the output matches the provided expected result.\n",
    "    - Note: Some datasets may have inherent variability (e.g., real-time data, AI-generated data); these are exceptions.\n",
    "    \n",
    "2. Complete Fulfillment of Requirements\n",
    "    - All requirements stated in the problem must be fully reflected in your code.\n",
    "    - Even minor elements should not be overlooked. Please write your code carefully, considering all details.\n",
    "\n",
    "※ Summary\n",
    "\n",
    "Therefore, do not miss any details mentioned in the problem, no matter how small, and make sure to address them in your solution.\n",
    "\n",
    "In real-world data analysis work, attention to detail and accuracy are essential.\n",
    "\n",
    "It is especially important to clearly define and manage conditions and column settings.\n",
    "\n",
    "This lab assignment is designed to reflect those real-world expectations.\n",
    "\n",
    "These criteria will be used to evaluate your assignment. Please keep them in mind when completing your work.\n",
    "\n",
    "If any of these requirements are not met, the corresponding problem may be graded as incorrect (0 points)."
   ]
  },
  {
   "cell_type": "markdown",
   "metadata": {
    "id": "tJW8ZkCH1dWj"
   },
   "source": []
  }
 ],
 "metadata": {
  "colab": {
   "provenance": []
  },
  "kernelspec": {
   "display_name": "Python (myenv)",
   "language": "python",
   "name": "myenv"
  },
  "language_info": {
   "codemirror_mode": {
    "name": "ipython",
    "version": 3
   },
   "file_extension": ".py",
   "mimetype": "text/x-python",
   "name": "python",
   "nbconvert_exporter": "python",
   "pygments_lexer": "ipython3",
   "version": "3.11.6"
  }
 },
 "nbformat": 4,
 "nbformat_minor": 0
}
